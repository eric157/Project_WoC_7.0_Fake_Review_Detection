{
 "cells": [
  {
   "cell_type": "code",
   "execution_count": 11,
   "metadata": {},
   "outputs": [],
   "source": [
    "import os\n",
    "import pandas as pd\n",
    "import string\n",
    "import nltk\n",
    "from nltk.tokenize import word_tokenize\n",
    "from nltk.stem import WordNetLemmatizer\n",
    "from nltk.corpus import stopwords\n",
    "import contractions\n",
    "from sklearn.feature_extraction.text import TfidfVectorizer\n",
    "import joblib\n",
    "import numpy as np\n",
    "import re\n",
    "from bs4 import BeautifulSoup\n",
    "from autocorrect import Speller\n",
    "from langdetect import detect, DetectorFactory\n",
    "nltk.download('punkt', quiet=True)\n",
    "nltk.download('wordnet', quiet=True)\n",
    "nltk.download('stopwords', quiet=True)\n",
    "nltk.download('omw-1.4', quiet=True)\n",
    "\n",
    "DATA_PATH = \"data/fakeReviewData.csv\"\n",
    "TEXT_COLUMN = \"text\"\n",
    "RATING_COLUMN = \"rating\"\n",
    "OUTPUT_PATH = \"output/FakeReviewDataPreprocessed.csv\"\n",
    "MAX_FEATURES = 5000\n",
    "MODEL_DIR = \"models\"\n",
    "VECTORIZER_PATH = os.path.join(MODEL_DIR, \"tfidf_vectorizer.pkl\")\n",
    "FEATURE_NAMES_PATH = os.path.join(MODEL_DIR, \"tfidf_feature_names.pkl\")"
   ]
  },
  {
   "cell_type": "code",
   "execution_count": 12,
   "metadata": {},
   "outputs": [],
   "source": [
    "def preprocess_text(text):\n",
    "    if not text:\n",
    "        return \"\"\n",
    "\n",
    "    soup = BeautifulSoup(text, 'html.parser')\n",
    "    text = soup.get_text(separator=' ')\n",
    "\n",
    "    text = contractions.fix(text)\n",
    "\n",
    "    text = re.sub(r'http\\S+|www\\S+|https\\S+|\\S+@\\S+|\\#\\S+', '', text, flags=re.MULTILINE)\n",
    "   \n",
    "    text = text.lower()\n",
    "    text = text.translate(str.maketrans('', '', string.punctuation + string.digits))\n",
    "    \n",
    "    tokens = word_tokenize(text)\n",
    "    stop_words = set(stopwords.words('english'))\n",
    "    tokens = [word for word in tokens if word not in stop_words]\n",
    "\n",
    "    lemmatizer = WordNetLemmatizer()\n",
    "    tokens = [lemmatizer.lemmatize(word) for word in tokens]\n",
    "\n",
    "    return ' '.join(tokens)"
   ]
  },
  {
   "cell_type": "code",
   "execution_count": 13,
   "metadata": {},
   "outputs": [],
   "source": [
    "if not os.path.exists(DATA_PATH):\n",
    "    raise FileNotFoundError(f\"File not found: {DATA_PATH}\")\n",
    "\n",
    "data = pd.read_csv(DATA_PATH)\n",
    "\n",
    "if TEXT_COLUMN not in data.columns:\n",
    "    raise KeyError(f\"Column '{TEXT_COLUMN}' not found in dataset.\")"
   ]
  },
  {
   "cell_type": "code",
   "execution_count": 14,
   "metadata": {},
   "outputs": [
    {
     "name": "stderr",
     "output_type": "stream",
     "text": [
      "C:\\Users\\ericp\\AppData\\Local\\Temp\\ipykernel_9336\\3434535940.py:5: MarkupResemblesLocatorWarning: The input looks more like a filename than markup. You may want to open this file and pass the filehandle into Beautiful Soup.\n",
      "  soup = BeautifulSoup(text, 'html.parser')\n"
     ]
    },
    {
     "name": "stdout",
     "output_type": "stream",
     "text": [
      "Processed data saved to output/FakeReviewDataPreprocessed.csv\n",
      "Tfidf vectorizer saved to models\\tfidf_vectorizer.pkl\n",
      "Tfidf feature names saved to models\\tfidf_feature_names.pkl\n"
     ]
    }
   ],
   "source": [
    "data[TEXT_COLUMN] = data[TEXT_COLUMN].fillna(\"\").apply(preprocess_text)\n",
    "\n",
    "vectorizer = TfidfVectorizer(max_features=MAX_FEATURES, stop_words='english')\n",
    "tfidf_matrix = vectorizer.fit_transform(data[TEXT_COLUMN])\n",
    "tfidf_features = pd.DataFrame(tfidf_matrix.toarray(), columns=vectorizer.get_feature_names_out())\n",
    "\n",
    "# Add the rating column to the training data\n",
    "data = pd.concat([data.reset_index(drop=True), tfidf_features.reset_index(drop=True)], axis=1)\n",
    "data['rating'] = data[RATING_COLUMN].astype(float) # Directly use rating from input data\n",
    "\n",
    "os.makedirs(os.path.dirname(OUTPUT_PATH), exist_ok=True)\n",
    "data.to_csv(OUTPUT_PATH, index=False)\n",
    "\n",
    "os.makedirs(os.path.dirname(VECTORIZER_PATH), exist_ok=True)\n",
    "joblib.dump(vectorizer, VECTORIZER_PATH)\n",
    "joblib.dump(vectorizer.get_feature_names_out(), FEATURE_NAMES_PATH)\n",
    "\n",
    "print(f\"Processed data saved to {OUTPUT_PATH}\")\n",
    "print(f\"Tfidf vectorizer saved to {VECTORIZER_PATH}\")\n",
    "print(f\"Tfidf feature names saved to {FEATURE_NAMES_PATH}\")"
   ]
  }
 ],
 "metadata": {
  "kernelspec": {
   "display_name": "Python 3",
   "language": "python",
   "name": "python3"
  },
  "language_info": {
   "codemirror_mode": {
    "name": "ipython",
    "version": 3
   },
   "file_extension": ".py",
   "mimetype": "text/x-python",
   "name": "python",
   "nbconvert_exporter": "python",
   "pygments_lexer": "ipython3",
   "version": "3.10.11"
  }
 },
 "nbformat": 4,
 "nbformat_minor": 2
}
