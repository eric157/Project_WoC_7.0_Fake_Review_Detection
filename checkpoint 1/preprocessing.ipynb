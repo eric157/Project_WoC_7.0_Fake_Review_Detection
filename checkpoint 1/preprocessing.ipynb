{
 "cells": [
  {
   "cell_type": "code",
   "execution_count": null,
   "metadata": {},
   "outputs": [],
   "source": [
    "import os\n",
    "import pandas as pd\n",
    "import string\n",
    "import nltk\n",
    "from nltk.tokenize import word_tokenize, sent_tokenize\n",
    "from nltk.stem import WordNetLemmatizer\n",
    "from nltk.corpus import stopwords\n",
    "import contractions\n",
    "from sklearn.feature_extraction.text import TfidfVectorizer\n",
    "import joblib\n",
    "import re\n",
    "from bs4 import BeautifulSoup\n",
    "from langdetect import detect\n",
    "from langdetect.lang_detect_exception import LangDetectException\n",
    "from tqdm import tqdm\n",
    "\n",
    "nltk.download('punkt', quiet=True)\n",
    "nltk.download('wordnet', quiet=True)\n",
    "nltk.download('stopwords', quiet=True)\n",
    "nltk.download('averaged_perceptron_tagger', quiet=True)\n",
    "nltk.download('omw-1.4', quiet=True)\n",
    "\n",
    "DATA_PATH = \"data/fakeReviewData.csv\"\n",
    "TEXT_COLUMN = \"text\"\n",
    "RATING_COLUMN = \"rating\"\n",
    "OUTPUT_PATH = \"output/FakeReviewDataPreprocessed.csv\"\n",
    "MODEL_DIR = \"models\"\n",
    "VECTORIZER_PATH = os.path.join(MODEL_DIR, \"tfidf_vectorizer.pkl\")\n",
    "FEATURE_NAMES_PATH = os.path.join(MODEL_DIR, \"tfidf_feature_names.pkl\")"
   ]
  },
  {
   "cell_type": "code",
   "execution_count": 2,
   "metadata": {},
   "outputs": [
    {
     "name": "stderr",
     "output_type": "stream",
     "text": [
      "100%|██████████| 40432/40432 [01:44<00:00, 385.54it/s]\n"
     ]
    }
   ],
   "source": [
    "def is_english(text):\n",
    "    try:\n",
    "        return detect(text) == \"en\"\n",
    "    except LangDetectException:\n",
    "        return False\n",
    "\n",
    "data = pd.read_csv(DATA_PATH)\n",
    "\n",
    "data[\"is_english\"] = [is_english(text) for text in tqdm(data[TEXT_COLUMN].astype(str).fillna(\"\"))]\n",
    "data = data[data[\"is_english\"]]\n",
    "data.drop(columns=[\"is_english\"], inplace=True)"
   ]
  },
  {
   "cell_type": "code",
   "execution_count": 3,
   "metadata": {},
   "outputs": [],
   "source": [
    "def preprocess_text(text):\n",
    "    if not text:\n",
    "        return \"\"\n",
    "    \n",
    "    soup = BeautifulSoup(text, 'html.parser')\n",
    "    text = soup.get_text(separator=' ')\n",
    "    \n",
    "    text = contractions.fix(text)\n",
    "    \n",
    "    text = re.sub(r'http\\S+|www\\S+|https\\S+|\\S+@\\S+|\\#\\S+', '', text, flags=re.MULTILINE)\n",
    "    \n",
    "    text = text.lower()\n",
    "    text = text.translate(str.maketrans('', '', string.punctuation + string.digits))\n",
    "    \n",
    "    tokens = word_tokenize(text)\n",
    "    \n",
    "    stop_words = set(stopwords.words('english'))\n",
    "    tokens = [word for word in tokens if word not in stop_words]\n",
    "    \n",
    "    lemmatizer = WordNetLemmatizer()\n",
    "    tokens = [lemmatizer.lemmatize(word) for word in tokens]\n",
    "    \n",
    "    return ' '.join(tokens)"
   ]
  },
  {
   "cell_type": "code",
   "execution_count": 4,
   "metadata": {},
   "outputs": [
    {
     "name": "stderr",
     "output_type": "stream",
     "text": [
      "  0%|          | 1/40368 [00:02<28:59:23,  2.59s/it]C:\\Users\\ericp\\AppData\\Local\\Temp\\ipykernel_4184\\126483397.py:5: MarkupResemblesLocatorWarning: The input looks more like a filename than markup. You may want to open this file and pass the filehandle into Beautiful Soup.\n",
      "  soup = BeautifulSoup(text, 'html.parser')\n",
      "100%|██████████| 40368/40368 [00:32<00:00, 1261.21it/s]\n"
     ]
    },
    {
     "name": "stdout",
     "output_type": "stream",
     "text": [
      "Processed data saved to output/FakeReviewDataPreprocessed.csv\n",
      "TF-IDF vectorizer saved to models\\tfidf_vectorizer.pkl\n",
      "TF-IDF feature names saved to models\\tfidf_feature_names.pkl\n"
     ]
    }
   ],
   "source": [
    "data[TEXT_COLUMN] = [preprocess_text(text) for text in tqdm(data[TEXT_COLUMN].fillna(\"\"))]\n",
    "\n",
    "vectorizer = TfidfVectorizer(\n",
    "    max_features=5000,\n",
    "    max_df=0.85,\n",
    "    min_df=5,\n",
    "    ngram_range=(1,2),\n",
    "    stop_words='english',\n",
    "    strip_accents='unicode',\n",
    "    sublinear_tf=True,\n",
    "    use_idf=True,\n",
    "    smooth_idf=True\n",
    ")\n",
    "tfidf_matrix = vectorizer.fit_transform(data[TEXT_COLUMN])\n",
    "tfidf_features = pd.DataFrame(tfidf_matrix.toarray(), columns=vectorizer.get_feature_names_out())\n",
    "\n",
    "data = pd.concat([data.reset_index(drop=True), tfidf_features.reset_index(drop=True)], axis=1)\n",
    "data[RATING_COLUMN] = data[RATING_COLUMN].astype(float)\n",
    "\n",
    "os.makedirs(os.path.dirname(OUTPUT_PATH), exist_ok=True)\n",
    "data.to_csv(OUTPUT_PATH, index=False)\n",
    "\n",
    "os.makedirs(MODEL_DIR, exist_ok=True)\n",
    "joblib.dump(vectorizer, VECTORIZER_PATH)\n",
    "joblib.dump(vectorizer.get_feature_names_out(), FEATURE_NAMES_PATH)\n",
    "\n",
    "print(f\"Processed data saved to {OUTPUT_PATH}\")\n",
    "print(f\"TF-IDF vectorizer saved to {VECTORIZER_PATH}\")\n",
    "print(f\"TF-IDF feature names saved to {FEATURE_NAMES_PATH}\")"
   ]
  }
 ],
 "metadata": {
  "kernelspec": {
   "display_name": "Python 3",
   "language": "python",
   "name": "python3"
  },
  "language_info": {
   "codemirror_mode": {
    "name": "ipython",
    "version": 3
   },
   "file_extension": ".py",
   "mimetype": "text/x-python",
   "name": "python",
   "nbconvert_exporter": "python",
   "pygments_lexer": "ipython3",
   "version": "3.10.11"
  }
 },
 "nbformat": 4,
 "nbformat_minor": 2
}
