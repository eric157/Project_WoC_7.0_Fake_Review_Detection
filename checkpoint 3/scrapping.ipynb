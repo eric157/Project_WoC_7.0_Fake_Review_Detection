{
  "cells": [
    {
      "cell_type": "code",
      "execution_count": 7,
      "metadata": {
        "id": "jLoI9-PmvrCX"
      },
      "outputs": [],
      "source": [
        "import re\n",
        "import requests\n",
        "import csv\n",
        "from bs4 import BeautifulSoup\n",
        "import pandas as pd"
      ]
    },
    {
      "cell_type": "code",
      "execution_count": 8,
      "metadata": {
        "id": "Ch0gxmksvrCZ"
      },
      "outputs": [],
      "source": [
        "def is_amazon_url(url):\n",
        "    \"\"\"Checks if a URL is a valid Amazon product URL.\"\"\"\n",
        "    amazon_pattern = r\"(https?://)?(www.)?amazon.(com|in|co\\.uk|de|ca|fr|co\\.jp|it|es|nl|com\\.mx|com\\.au|com\\.br|ae|sg|sa)/.*\"\n",
        "    return bool(re.match(amazon_pattern, url))"
      ]
    },
    {
      "cell_type": "code",
      "execution_count": 9,
      "metadata": {
        "colab": {
          "base_uri": "https://localhost:8080/"
        },
        "id": "In0nh8JjvrCa",
        "outputId": "6622de03-7e17-456a-9f8c-e6d22b317429"
      },
      "outputs": [],
      "source": [
        "def scrape_amazon_reviews(product_url, max_reviews=50):\n",
        "    \"\"\"\n",
        "    Scrapes reviews from an Amazon product page, filtering by star rating.\n",
        "\n",
        "    Args:\n",
        "        product_url (str): The URL of the Amazon product page.\n",
        "        max_reviews (int, optional): Maximum number of reviews to scrape. Defaults to 50.\n",
        "\n",
        "    Returns:\n",
        "        list: A list of dictionaries, each containing review content and rating.\n",
        "            Returns an empty list if no reviews were scraped.\n",
        "    \"\"\"\n",
        "\n",
        "    if not is_amazon_url(product_url):\n",
        "        raise ValueError(\"Invalid Amazon product URL.\")\n",
        "\n",
        "    headers = {\n",
        "        'User-Agent': 'Mozilla/5.0 (Windows NT 10.0; Win64; x64) AppleWebKit/537.36 (KHTML, like Gecko) Chrome/130.0.0.0 Safari/537.36',\n",
        "        'Accept-Language': 'en-US,en;q=0.9',\n",
        "    }\n",
        "\n",
        "    all_reviews = []  # Store all reviews here\n",
        "    review_count = 0\n",
        "    star_ratings = ['one_star', 'two_star', 'three_star', 'four_star', 'five_star']\n",
        "    \n",
        "    for rating_filter in star_ratings:\n",
        "        page_number = 1\n",
        "        \n",
        "        while review_count < max_reviews:\n",
        "          \n",
        "            filtered_url = f\"{product_url}?filterByStar={rating_filter}&pageNumber={page_number}\"\n",
        "\n",
        "            try:\n",
        "                response = requests.get(filtered_url, headers=headers)\n",
        "                response.raise_for_status()  # Raise an exception for bad status codes\n",
        "            except requests.exceptions.RequestException as e:\n",
        "                print(f\"Error fetching page {page_number} with filter {rating_filter}: {e}\")\n",
        "                break\n",
        "            \n",
        "            soup = BeautifulSoup(response.content, 'html.parser')\n",
        "            review_elements = soup.select('.review')\n",
        "            \n",
        "            if not review_elements:\n",
        "                print(f\"No more reviews found for {rating_filter}.\")\n",
        "                break\n",
        "            \n",
        "            for review in review_elements:\n",
        "                content_element = review.select_one('.review-text')\n",
        "                rating_element = review.select_one('.review-rating')\n",
        "\n",
        "                content = content_element.text.strip() if content_element else None\n",
        "                rating = rating_element.text.strip() if rating_element else None\n",
        "                \n",
        "                if content and rating:\n",
        "                    all_reviews.append({\n",
        "                        \"content\": content,\n",
        "                        \"rating\": rating,\n",
        "                        \"filter\": rating_filter\n",
        "                    })\n",
        "                    review_count += 1\n",
        "\n",
        "                    if review_count >= max_reviews:\n",
        "                      break\n",
        "            page_number += 1\n",
        "        \n",
        "    return all_reviews"
      ]
    },
    {
      "cell_type": "code",
      "execution_count": 10,
      "metadata": {
        "colab": {
          "base_uri": "https://localhost:8080/",
          "height": 423
        },
        "id": "oG3iaNwNZ9-f",
        "outputId": "b04cfc52-a0e6-4a86-b9e9-f9dcb8aecd37"
      },
      "outputs": [],
      "source": [
        "def save_reviews_to_csv(reviews, filename='All_Reviews.csv'):\n",
        "  \"\"\"Saves a list of reviews to a CSV file.\"\"\"\n",
        "  if not reviews:\n",
        "    print(\"No reviews to save.\")\n",
        "    return\n",
        "  \n",
        "  with open(filename, 'w', newline='', encoding='utf-8') as file:\n",
        "    writer = csv.DictWriter(file, fieldnames=[\"content\", \"rating\",\"filter\"])\n",
        "    writer.writeheader()\n",
        "    writer.writerows(reviews)\n",
        "  print(f\"Saved {len(reviews)} reviews to '{filename}'.\")"
      ]
    },
    {
      "cell_type": "code",
      "execution_count": 11,
      "metadata": {},
      "outputs": [],
      "source": [
        "def load_csv_to_dataframe(filename='All_Reviews.csv'):\n",
        "  \"\"\"Loads the csv file into a dataframe. Returns dataframe\"\"\"\n",
        "  try:\n",
        "    df = pd.read_csv(filename)\n",
        "    return df\n",
        "  except FileNotFoundError:\n",
        "    print(f\"File '{filename}' not found.\")\n",
        "    return None"
      ]
    },
    {
      "cell_type": "code",
      "execution_count": 12,
      "metadata": {},
      "outputs": [
        {
          "name": "stdout",
          "output_type": "stream",
          "text": [
            "Saved 100 reviews to 'All_Reviews.csv'.\n",
            "\n",
            "DataFrame Loaded:\n",
            "                                              content              rating  \\\n",
            "0   I recently had the pleasure of riding the Velo...  5.0 out of 5 stars   \n",
            "1   Overall, I'm thoroughly impressed with the Lif...  4.0 out of 5 stars   \n",
            "2   This is one of the best bicycle in this price ...  5.0 out of 5 stars   \n",
            "3   I recently purchased a Lifelong cycle from Ama...  1.0 out of 5 stars   \n",
            "4   I recently had the pleasure of riding the Velo...  5.0 out of 5 stars   \n",
            "..                                                ...                 ...   \n",
            "95  I recently purchased a Lifelong cycle from Ama...  1.0 out of 5 stars   \n",
            "96  I recently had the pleasure of riding the Velo...  5.0 out of 5 stars   \n",
            "97  Overall, I'm thoroughly impressed with the Lif...  4.0 out of 5 stars   \n",
            "98  This is one of the best bicycle in this price ...  5.0 out of 5 stars   \n",
            "99  I recently purchased a Lifelong cycle from Ama...  1.0 out of 5 stars   \n",
            "\n",
            "      filter  \n",
            "0   one_star  \n",
            "1   one_star  \n",
            "2   one_star  \n",
            "3   one_star  \n",
            "4   one_star  \n",
            "..       ...  \n",
            "95  one_star  \n",
            "96  one_star  \n",
            "97  one_star  \n",
            "98  one_star  \n",
            "99  one_star  \n",
            "\n",
            "[100 rows x 3 columns]\n"
          ]
        }
      ],
      "source": [
        "if __name__ == '__main__':\n",
        "    try:\n",
        "        product_url = input(\"Enter the Amazon product reviews URL: \")  \n",
        "        reviews = scrape_amazon_reviews(product_url, max_reviews=100)  \n",
        "        save_reviews_to_csv(reviews)\n",
        "        dataframe=load_csv_to_dataframe()\n",
        "        if dataframe is not None:\n",
        "          print(\"\\nDataFrame Loaded:\")\n",
        "          print(dataframe)\n",
        "    except ValueError as e:\n",
        "        print(e)"
      ]
    }
  ],
  "metadata": {
    "colab": {
      "provenance": []
    },
    "kernelspec": {
      "display_name": "Python 3",
      "language": "python",
      "name": "python3"
    },
    "language_info": {
      "codemirror_mode": {
        "name": "ipython",
        "version": 3
      },
      "file_extension": ".py",
      "mimetype": "text/x-python",
      "name": "python",
      "nbconvert_exporter": "python",
      "pygments_lexer": "ipython3",
      "version": "3.10.11"
    }
  },
  "nbformat": 4,
  "nbformat_minor": 0
}
