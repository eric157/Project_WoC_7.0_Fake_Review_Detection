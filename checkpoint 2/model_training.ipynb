{
 "cells": [
  {
   "cell_type": "code",
   "execution_count": 1,
   "metadata": {},
   "outputs": [],
   "source": [
    "import os\n",
    "import pandas as pd\n",
    "import numpy as np\n",
    "from sklearn.model_selection import train_test_split\n",
    "from sklearn.preprocessing import LabelEncoder\n",
    "from sklearn.linear_model import LogisticRegression\n",
    "from sklearn.metrics import accuracy_score, precision_score, recall_score, f1_score\n",
    "import joblib\n",
    "\n",
    "CHECKPOINT_1_OUTPUT_DIR = \"../checkpoint 1/output\"\n",
    "MODEL_DIR = \"models\"\n",
    "PREPROCESSED_DATA_FILE = \"FakeReviewDataPreprocessed.csv\"\n",
    "RANDOM_STATE = 42\n",
    "MODEL_PATH = os.path.join(MODEL_DIR, \"logistic_regression_model.pkl\")\n",
    "FEATURE_NAMES_PATH = os.path.join(\"..\", \"checkpoint 1\", \"models\", \"tfidf_feature_names.pkl\")"
   ]
  },
  {
   "cell_type": "code",
   "execution_count": 2,
   "metadata": {},
   "outputs": [
    {
     "name": "stdout",
     "output_type": "stream",
     "text": [
      "Preprocessed data loaded successfully.\n"
     ]
    }
   ],
   "source": [
    "if not os.path.exists(os.path.join(CHECKPOINT_1_OUTPUT_DIR, PREPROCESSED_DATA_FILE)):\n",
    "    raise FileNotFoundError(f\"Error: The file {PREPROCESSED_DATA_FILE} was not found in {CHECKPOINT_1_OUTPUT_DIR}. Ensure preprocessing is completed first.\")\n",
    "\n",
    "data = pd.read_csv(os.path.join(CHECKPOINT_1_OUTPUT_DIR, PREPROCESSED_DATA_FILE), low_memory=False)\n",
    "print(\"Preprocessed data loaded successfully.\")"
   ]
  },
  {
   "cell_type": "code",
   "execution_count": 3,
   "metadata": {},
   "outputs": [
    {
     "name": "stdout",
     "output_type": "stream",
     "text": [
      "Label column label-encoded.\n"
     ]
    }
   ],
   "source": [
    "encoder = LabelEncoder()\n",
    "if 'label' in data.columns:\n",
    "    data['label'] = encoder.fit_transform(data['label'])\n",
    "    print(\"Label column label-encoded.\")\n",
    "\n",
    "columns_to_exclude = ['label', 'text', 'category']\n",
    "feature_cols = [col for col in data.columns if col not in columns_to_exclude]\n",
    "\n",
    "if not feature_cols:\n",
    "    raise ValueError(\"No feature columns were found. Please verify the preprocessing output.\")"
   ]
  },
  {
   "cell_type": "code",
   "execution_count": 4,
   "metadata": {},
   "outputs": [
    {
     "name": "stdout",
     "output_type": "stream",
     "text": [
      "Dataset prepared for training.\n",
      "Dataset split into training+validation and test sets (90% train+val, 10% test).\n",
      "Dataset split into training and validation sets (80% train, 10% val).\n"
     ]
    }
   ],
   "source": [
    "X = data[feature_cols].to_numpy()\n",
    "y = data['label']\n",
    "print(\"Dataset prepared for training.\")\n",
    "X_train_val, X_test, y_train_val, y_test = train_test_split(X, y, test_size=0.1, random_state=RANDOM_STATE)\n",
    "print(\"Dataset split into training+validation and test sets (90% train+val, 10% test).\")\n",
    "\n",
    "X_train, X_val, y_train, y_val = train_test_split(X_train_val, y_train_val, test_size=1/9, random_state=RANDOM_STATE)\n",
    "print(\"Dataset split into training and validation sets (80% train, 10% val).\")\n",
    "if not os.path.exists(FEATURE_NAMES_PATH):\n",
    "    raise FileNotFoundError(f\"Error: The file {FEATURE_NAMES_PATH} was not found. Please run preprocessing first\")\n",
    "feature_names = joblib.load(FEATURE_NAMES_PATH)"
   ]
  },
  {
   "cell_type": "code",
   "execution_count": 5,
   "metadata": {},
   "outputs": [
    {
     "name": "stdout",
     "output_type": "stream",
     "text": [
      "Model saved to models\\logistic_regression_model.pkl\n"
     ]
    }
   ],
   "source": [
    "best_model = LogisticRegression(\n",
    "    max_iter=1000\n",
    ")\n",
    "best_model.fit(X_train, y_train)\n",
    "best_model.feature_names_in_ = np.array(feature_names.tolist()+['rating'])\n",
    "\n",
    "os.makedirs(MODEL_DIR, exist_ok=True)\n",
    "joblib.dump(best_model, MODEL_PATH)\n",
    "print(f\"Model saved to {MODEL_PATH}\")"
   ]
  },
  {
   "cell_type": "code",
   "execution_count": 6,
   "metadata": {},
   "outputs": [
    {
     "name": "stderr",
     "output_type": "stream",
     "text": [
      "c:\\Users\\ericp\\AppData\\Local\\Programs\\Python\\Python310\\lib\\site-packages\\sklearn\\utils\\validation.py:2739: UserWarning: X does not have valid feature names, but LogisticRegression was fitted with feature names\n",
      "  warnings.warn(\n"
     ]
    },
    {
     "name": "stdout",
     "output_type": "stream",
     "text": [
      "Train Metrics: {'accuracy': 0.9038830742552796, 'precision': 0.8945300695074041, 'recall': 0.9158982610310044, 'f1': 0.9050880626223092}\n",
      "Validation Metrics: {'accuracy': 0.8778796135744364, 'precision': 0.8709990300678953, 'recall': 0.8877904102817598, 'f1': 0.8793145654834761}\n",
      "Test Metrics: {'accuracy': 0.8776319048798613, 'precision': 0.868382710053424, 'recall': 0.8891098955743412, 'f1': 0.8786240786240787}\n"
     ]
    },
    {
     "name": "stderr",
     "output_type": "stream",
     "text": [
      "c:\\Users\\ericp\\AppData\\Local\\Programs\\Python\\Python310\\lib\\site-packages\\sklearn\\utils\\validation.py:2739: UserWarning: X does not have valid feature names, but LogisticRegression was fitted with feature names\n",
      "  warnings.warn(\n",
      "c:\\Users\\ericp\\AppData\\Local\\Programs\\Python\\Python310\\lib\\site-packages\\sklearn\\utils\\validation.py:2739: UserWarning: X does not have valid feature names, but LogisticRegression was fitted with feature names\n",
      "  warnings.warn(\n"
     ]
    }
   ],
   "source": [
    "def evaluate_model(model, X, y):\n",
    "    y_pred = model.predict(X)\n",
    "    metrics = {\n",
    "        \"accuracy\": accuracy_score(y, y_pred),\n",
    "        \"precision\": precision_score(y, y_pred, average='binary', zero_division=0),\n",
    "        \"recall\": recall_score(y, y_pred, average='binary', zero_division=0),\n",
    "        \"f1\": f1_score(y, y_pred, average='binary', zero_division=0),\n",
    "    }\n",
    "    return metrics\n",
    "\n",
    "train_metrics = evaluate_model(best_model, X_train, y_train)\n",
    "val_metrics = evaluate_model(best_model, X_val, y_val)\n",
    "test_metrics = evaluate_model(best_model, X_test, y_test)\n",
    "\n",
    "print(f\"Train Metrics: {train_metrics}\")\n",
    "print(f\"Validation Metrics: {val_metrics}\")\n",
    "print(f\"Test Metrics: {test_metrics}\")"
   ]
  }
 ],
 "metadata": {
  "kernelspec": {
   "display_name": "Python 3",
   "language": "python",
   "name": "python3"
  },
  "language_info": {
   "codemirror_mode": {
    "name": "ipython",
    "version": 3
   },
   "file_extension": ".py",
   "mimetype": "text/x-python",
   "name": "python",
   "nbconvert_exporter": "python",
   "pygments_lexer": "ipython3",
   "version": "3.10.11"
  }
 },
 "nbformat": 4,
 "nbformat_minor": 2
}
